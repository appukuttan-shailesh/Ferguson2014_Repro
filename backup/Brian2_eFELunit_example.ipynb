{
 "cells": [
  {
   "cell_type": "markdown",
   "id": "74b9868c-c391-4c8f-aabb-1dbcb8778be6",
   "metadata": {},
   "source": [
    "<div class=\"alert alert-block alert-success\" style=\"color:black\">\n",
    "    <h2><b>Overview</b></h2>\n",
    "    This Jupyter Notebook will allow you to run sample simulations for the <b>Brian2</b> models from our study.\n",
    "    <br/>\n",
    "    It is implemented to be interactive: you can specify the model variant and the feature to be evaluated.\n",
    "    <br\n",
    "</div>"
   ]
  },
  {
   "cell_type": "code",
   "execution_count": 1,
   "id": "2120268c-e4e8-4866-97af-284e0bf02a9b",
   "metadata": {},
   "outputs": [],
   "source": [
    "import warnings\n",
    "warnings.filterwarnings('ignore')"
   ]
  },
  {
   "cell_type": "markdown",
   "id": "bd841df9-2b47-40c0-a8d8-bfc34e4658b6",
   "metadata": {},
   "source": [
    "<div class=\"alert alert-block alert-warning\" style=\"color:black\">\n",
    "<h3>Install the necessary packages</h3>\n",
    "You only need to run the below cell once.\n",
    "Comment (disable) below cell after first run to avoid unnecessary reinstalls.\n",
    "</div>"
   ]
  },
  {
   "cell_type": "raw",
   "id": "935be48a-6569-4d93-86ae-d990500aa28b",
   "metadata": {},
   "source": [
    "!pip install --quiet hbp_validation_framework\n",
    "!pip install --quiet pathos\n",
    "!pip install --quiet eFELunit\n",
    "!pip install --quiet brian2"
   ]
  },
  {
   "cell_type": "code",
   "execution_count": 2,
   "id": "2a54fe51-d6db-49ec-abdb-572f424e077d",
   "metadata": {},
   "outputs": [],
   "source": [
    "import os\n",
    "import time\n",
    "from IPython.display import IFrame\n",
    "from hbp_validation_framework import ModelCatalog, utils"
   ]
  },
  {
   "cell_type": "code",
   "execution_count": 3,
   "id": "2626fb1e-73ad-4090-9ba7-b1d813883de4",
   "metadata": {},
   "outputs": [
    {
     "data": {
      "text/plain": [
       "b'/mnt/user/shared/Live Paper: 2022_Appukuttan_Davison/generic_Pyr_model_Brian2.py'"
      ]
     },
     "execution_count": 3,
     "metadata": {},
     "output_type": "execute_result"
    }
   ],
   "source": [
    "mc = ModelCatalog(\"shailesh\")\n",
    "mc.download_model_instance(alias=\"ferg2014_strong\", version =\"Brian2\", overwrite=True)"
   ]
  },
  {
   "cell_type": "markdown",
   "id": "1a9ec758-679d-4029-ae5e-367088ede6f3",
   "metadata": {},
   "source": [
    "<div class=\"alert alert-block alert-warning\" style=\"color:black\">\n",
    "<h3>Choose Model Variant</h3>\n",
    "</div>"
   ]
  },
  {
   "cell_type": "code",
   "execution_count": 4,
   "id": "ee2a8810-5d3a-4373-9829-2f75a06e6434",
   "metadata": {},
   "outputs": [
    {
     "name": "stdout",
     "output_type": "stream",
     "text": [
      "Specify the model variant to be used:  strong / weak1 / weak2\n"
     ]
    },
    {
     "name": "stdin",
     "output_type": "stream",
     "text": [
      " strong\n"
     ]
    }
   ],
   "source": [
    "model_variant = None\n",
    "variant_values = [\"strong\", \"weak1\", \"weak2\"]\n",
    "while (model_variant not in variant_values):\n",
    "    if model_variant != None:\n",
    "        print(\"\\tInvalid input!\\n\")\n",
    "    print(\"Specify the model variant to be used: \", \" / \".join(variant_values))\n",
    "    model_variant = input()"
   ]
  },
  {
   "cell_type": "markdown",
   "id": "16343ad3-155d-4492-bd95-11f97f115299",
   "metadata": {},
   "source": [
    "<div class=\"alert alert-block alert-warning\" style=\"color:black\">\n",
    "<h3>Choose Test Feature</h3>\n",
    "</div>"
   ]
  },
  {
   "cell_type": "code",
   "execution_count": 5,
   "id": "1b06c312-14c1-4c38-842f-fd36d494442f",
   "metadata": {},
   "outputs": [
    {
     "name": "stdout",
     "output_type": "stream",
     "text": [
      "Specify the test feature to be evaluated: \n",
      " spikecount / time_to_first_spike / time_to_second_spike / time_to_last_spike / AP1_amp / AP2_amp / APlast_amp / AP1_peak / AP2_peak / AP1_width / AP2_width / APlast_width / iv_curve\n"
     ]
    },
    {
     "name": "stdin",
     "output_type": "stream",
     "text": [
      " spikecount\n"
     ]
    }
   ],
   "source": [
    "test_feature = None\n",
    "feature_values = [\"spikecount\", \"time_to_first_spike\", \"time_to_second_spike\", \"time_to_last_spike\", \"AP1_amp\", \"AP2_amp\", \"APlast_amp\", \"AP1_peak\", \"AP2_peak\",\"AP1_width\", \"AP2_width\", \"APlast_width\", \"iv_curve\"]\n",
    "while (test_feature not in feature_values):\n",
    "    if test_feature != None:\n",
    "        print(\"\\tInvalid input!\\n\")\n",
    "    print(\"Specify the test feature to be evaluated: \\n\", \" / \".join(feature_values))\n",
    "    test_feature = input()"
   ]
  },
  {
   "cell_type": "code",
   "execution_count": 6,
   "id": "77099cba-60dd-4cf5-ac43-fdc35f39600d",
   "metadata": {},
   "outputs": [],
   "source": [
    "try:\n",
    "    from generic_Pyr_model_Brian2 import CA1_Pyr_Brian2_Template\n",
    "except:\n",
    "    time.sleep(10.0) # sometimes Collab Drive needs time to identify new files\n",
    "    from generic_Pyr_model_Brian2 import CA1_Pyr_Brian2_Template\n",
    "model = CA1_Pyr_Brian2_Template(type=model_variant)"
   ]
  },
  {
   "cell_type": "markdown",
   "id": "b00df713-8bd0-4dde-8f71-bb224006ea12",
   "metadata": {},
   "source": [
    "<div class=\"alert alert-block alert-warning\" style=\"color:black\">\n",
    "<h3>Run Test</h3>\n",
    "</div>"
   ]
  },
  {
   "cell_type": "code",
   "execution_count": 7,
   "id": "2d6fa325-bb75-43cd-acb7-f7059a3d34aa",
   "metadata": {},
   "outputs": [
    {
     "name": "stdout",
     "output_type": "stream",
     "text": [
      "Simulator: Brian2\n",
      "Model Variant:  strong\n",
      "Test Feature:  spikecount\n",
      "=====================================\n",
      "\n",
      "----------------------------------------------\n",
      "Test name:  Test for spikecount\n",
      "Test type:  <class 'eFELunit.tests.test_eFELfeatureTest.eFELfeatureTest'>\n",
      "----------------------------------------------\n",
      "----------------------------------------------\n",
      "Model name:  Brian2 Strongly Adapting PYR Model\n",
      "Model type:  <class 'generic_Pyr_model_Brian2.CA1_Pyr_Brian2_Template'>\n",
      "----------------------------------------------\n",
      "I = 10.0\n"
     ]
    },
    {
     "name": "stderr",
     "output_type": "stream",
     "text": [
      "/srv/main-spack-instance/spack/opt/spack/linux-centos7-broadwell/gcc-10.3.0/binutils-2.37-yputoz3higj7cwryupaaum3kxv6msvje/bin/ld: cannot find crti.o: No such file or directory\n",
      "/srv/main-spack-instance/spack/opt/spack/linux-centos7-broadwell/gcc-10.3.0/binutils-2.37-yputoz3higj7cwryupaaum3kxv6msvje/bin/ld: cannot find -lm\n",
      "collect2: error: ld returned 1 exit status\n",
      "WARNING    Cannot use Cython, a test compilation failed: Command \"/srv/main-spack-instance/spack/opt/spack/linux-centos7-haswell/gcc-4.8.5/gcc-10.3.0-zc4tuenexizxpjpm5cefeavrr5zdqrjd/bin/g++ -pthread -shared /tmp/cache/cython/brian_extensions/tmp/cache/cython/brian_extensions/_cython_magic_572ca793549edeb697a70d11c4bd9f3f.o -L/srv/main-spack-instance/spack/opt/spack/linux-centos7-broadwell/gcc-10.3.0/python-3.8.11-b4kewidwpj7so3hy6fdzldmq4227cr5z/lib -L/srv/main-spack-instance/spack/opt/spack/linux-centos7-broadwell/gcc-10.3.0/python-3.8.11-b4kewidwpj7so3hy6fdzldmq4227cr5z/lib -Wl,--enable-new-dtags,-R/srv/main-spack-instance/spack/opt/spack/linux-centos7-broadwell/gcc-10.3.0/python-3.8.11-b4kewidwpj7so3hy6fdzldmq4227cr5z/lib -o /tmp/cache/cython/brian_extensions/_cython_magic_572ca793549edeb697a70d11c4bd9f3f.cpython-38-x86_64-linux-gnu.so\" failed with exit status 1 (LinkError)\n",
      "Certain compiler configurations (e.g. clang in a conda environment on OS X) are known to be problematic. Note that you can switch the compiler by setting the 'CC' and 'CXX' environment variables. For example, you may want to try 'CC=gcc' and 'CXX=g++'. [brian2.codegen.runtime.cython_rt.cython_rt.failed_compile_test]\n",
      "INFO       Cannot use compiled code, falling back to the numpy code generation target. Note that this will likely be slower than using compiled code. Set the code generation to numpy manually to avoid this message:\n",
      "prefs.codegen.target = \"numpy\" [brian2.devices.device.codegen_fallback]\n"
     ]
    },
    {
     "name": "stdout",
     "output_type": "stream",
     "text": [
      "I = 20.0\n",
      "I = 30.0\n",
      "I = 40.0\n",
      "I = 50.0\n",
      "I = 60.0\n",
      "I = 70.0\n",
      "I = 80.0\n",
      "I = 90.0\n",
      "I = 100.0\n",
      "----------------------------------------------\n",
      "Score:  0.0\n",
      "Output files: \n",
      "./Results/eFELfeatureTest/Test_for_spikecount/Brian2_Strongly_Adapting_PYR_Model/response_stim_10.0pA.pdf\n",
      "./Results/eFELfeatureTest/Test_for_spikecount/Brian2_Strongly_Adapting_PYR_Model/response_stim_20.0pA.pdf\n",
      "./Results/eFELfeatureTest/Test_for_spikecount/Brian2_Strongly_Adapting_PYR_Model/response_stim_30.0pA.pdf\n",
      "./Results/eFELfeatureTest/Test_for_spikecount/Brian2_Strongly_Adapting_PYR_Model/response_stim_40.0pA.pdf\n",
      "./Results/eFELfeatureTest/Test_for_spikecount/Brian2_Strongly_Adapting_PYR_Model/response_stim_50.0pA.pdf\n",
      "./Results/eFELfeatureTest/Test_for_spikecount/Brian2_Strongly_Adapting_PYR_Model/response_stim_60.0pA.pdf\n",
      "./Results/eFELfeatureTest/Test_for_spikecount/Brian2_Strongly_Adapting_PYR_Model/response_stim_70.0pA.pdf\n",
      "./Results/eFELfeatureTest/Test_for_spikecount/Brian2_Strongly_Adapting_PYR_Model/response_stim_80.0pA.pdf\n",
      "./Results/eFELfeatureTest/Test_for_spikecount/Brian2_Strongly_Adapting_PYR_Model/response_stim_90.0pA.pdf\n",
      "./Results/eFELfeatureTest/Test_for_spikecount/Brian2_Strongly_Adapting_PYR_Model/response_stim_100.0pA.pdf\n",
      "./Results/eFELfeatureTest/Test_for_spikecount/Brian2_Strongly_Adapting_PYR_Model/result_plot.pdf\n",
      "./Results/eFELfeatureTest/Test_for_spikecount/Brian2_Strongly_Adapting_PYR_Model/compare_obs_pred.json\n",
      "./Results/eFELfeatureTest/Test_for_spikecount/Brian2_Strongly_Adapting_PYR_Model/test_summary.json\n",
      "./Results/eFELfeatureTest/Test_for_spikecount/Brian2_Strongly_Adapting_PYR_Model/test_log.txt\n",
      "----------------------------------------------\n"
     ]
    }
   ],
   "source": [
    "print(\"Simulator: Brian2\")\n",
    "print(\"Model Variant: \", model_variant)\n",
    "print(\"Test Feature: \", test_feature)\n",
    "print(\"=====================================\\n\")\n",
    "\n",
    "result, score = utils.run_test_standalone(\n",
    "                    username = \"shailesh\",\n",
    "                    model=model,\n",
    "                    test_alias=f\"ferg2014_{test_feature}_{model_variant}\",\n",
    "                    register_result=False,\n",
    "                    feature= test_feature,\n",
    "                    force_run=True)"
   ]
  },
  {
   "cell_type": "markdown",
   "id": "ba3f4155-2f33-420e-a7df-ea09802ec814",
   "metadata": {},
   "source": [
    "<div class=\"alert alert-block alert-warning\" style=\"color:black\">\n",
    "<h3>View Output Files</h3>\n",
    "</div>"
   ]
  },
  {
   "cell_type": "code",
   "execution_count": 8,
   "id": "0fb9a8be-9943-49ba-96a9-eb0dafbfe800",
   "metadata": {},
   "outputs": [
    {
     "data": {
      "text/html": [
       "\n",
       "        <iframe\n",
       "            width=\"600\"\n",
       "            height=\"550\"\n",
       "            src=\"./Results/eFELfeatureTest/Test_for_spikecount/Brian2_Strongly_Adapting_PYR_Model/result_plot.pdf\"\n",
       "            frameborder=\"0\"\n",
       "            allowfullscreen\n",
       "        ></iframe>\n",
       "        "
      ],
      "text/plain": [
       "<IPython.lib.display.IFrame at 0x7f0a5d1c5cd0>"
      ]
     },
     "execution_count": 8,
     "metadata": {},
     "output_type": "execute_result"
    }
   ],
   "source": [
    "result_plot = next(x for x in score.related_data[\"figures\"] if \"result_plot\" in x)\n",
    "IFrame(result_plot, width=600, height=550)"
   ]
  },
  {
   "cell_type": "code",
   "execution_count": 9,
   "id": "57a47e64-5c0c-4ccc-9fae-6cb52f2de9e2",
   "metadata": {},
   "outputs": [
    {
     "data": {
      "text/html": [
       "\n",
       "        <iframe\n",
       "            width=\"600\"\n",
       "            height=\"250\"\n",
       "            src=\"./Results/eFELfeatureTest/Test_for_spikecount/Brian2_Strongly_Adapting_PYR_Model/test_summary.json\"\n",
       "            frameborder=\"0\"\n",
       "            allowfullscreen\n",
       "        ></iframe>\n",
       "        "
      ],
      "text/plain": [
       "<IPython.lib.display.IFrame at 0x7f0a5378da60>"
      ]
     },
     "execution_count": 9,
     "metadata": {},
     "output_type": "execute_result"
    }
   ],
   "source": [
    "test_summary = next(x for x in score.related_data[\"figures\"] if \"test_summary\" in x)\n",
    "IFrame(test_summary, width=600, height=250)"
   ]
  }
 ],
 "metadata": {
  "kernelspec": {
   "display_name": "EBRAINS_release_v0.1_202109",
   "language": "python",
   "name": "spack_python_kernel_release_20210930"
  },
  "language_info": {
   "codemirror_mode": {
    "name": "ipython",
    "version": 3
   },
   "file_extension": ".py",
   "mimetype": "text/x-python",
   "name": "python",
   "nbconvert_exporter": "python",
   "pygments_lexer": "ipython3",
   "version": "3.8.11"
  }
 },
 "nbformat": 4,
 "nbformat_minor": 5
}
